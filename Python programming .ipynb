{
 "cells": [
  {
   "cell_type": "code",
   "execution_count": 1,
   "metadata": {},
   "outputs": [
    {
     "name": "stdout",
     "output_type": "stream",
     "text": [
      "Data Science\n"
     ]
    }
   ],
   "source": [
    "a=\"Data Science\"\n",
    "print(a)"
   ]
  },
  {
   "cell_type": "code",
   "execution_count": 2,
   "metadata": {},
   "outputs": [
    {
     "name": "stdout",
     "output_type": "stream",
     "text": [
      "Data Science\n",
      "Data Science\n",
      "Data Science\n",
      "Data Science\n",
      "Data Science\n",
      "Data Science\n",
      "Data Science\n",
      "Data Science\n",
      "Data Science\n",
      "Data Science\n"
     ]
    }
   ],
   "source": [
    "for x in range(10):\n",
    "    print(a)"
   ]
  },
  {
   "cell_type": "code",
   "execution_count": 3,
   "metadata": {},
   "outputs": [
    {
     "name": "stdout",
     "output_type": "stream",
     "text": [
      "Mumbai\n",
      "Delhi\n",
      "Pune\n"
     ]
    }
   ],
   "source": [
    "city=[\"Mumbai\",\"Delhi\",\"Pune\"]\n",
    "for x in city:\n",
    "    print(x)"
   ]
  },
  {
   "cell_type": "code",
   "execution_count": 4,
   "metadata": {},
   "outputs": [
    {
     "name": "stdout",
     "output_type": "stream",
     "text": [
      "M\n",
      "u\n",
      "m\n",
      "b\n",
      "a\n",
      "i\n",
      "D\n",
      "e\n",
      "l\n",
      "h\n",
      "i\n",
      "P\n",
      "u\n",
      "n\n",
      "e\n"
     ]
    }
   ],
   "source": [
    "city=[\"Mumbai\",\"Delhi\",\"Pune\"]\n",
    "for x in city:\n",
    "    for y in x:\n",
    "        print(y)"
   ]
  },
  {
   "cell_type": "code",
   "execution_count": 5,
   "metadata": {},
   "outputs": [
    {
     "name": "stdout",
     "output_type": "stream",
     "text": [
      "ai\n",
      "hi\n",
      "ne\n"
     ]
    }
   ],
   "source": [
    "city=[\"Mumbai\",\"Delhi\",\"Pune\"]\n",
    "updated=[]\n",
    "for x in city:\n",
    "    ab=x[-2:]\n",
    "    print(ab)"
   ]
  },
  {
   "cell_type": "code",
   "execution_count": 6,
   "metadata": {},
   "outputs": [
    {
     "name": "stdout",
     "output_type": "stream",
     "text": [
      "['aiMumbai', 'hiDelhi', 'nePune']\n"
     ]
    }
   ],
   "source": [
    "city=[\"Mumbai\",\"Delhi\",\"Pune\"]\n",
    "updated=[]\n",
    "for x in city:\n",
    "    ab=x[-2:]\n",
    "    x1=ab+x\n",
    "    updated.append(x1)\n",
    "#     print(ab)\n",
    "print(updated)"
   ]
  },
  {
   "cell_type": "code",
   "execution_count": 7,
   "metadata": {},
   "outputs": [
    {
     "name": "stdout",
     "output_type": "stream",
     "text": [
      "Mumbai This is AI City\n",
      "This is Not........ Delhi\n",
      "This is Not........ Pune\n",
      "Dubai This is AI City\n",
      "Pawai This is AI City\n",
      "Chennai This is AI City\n"
     ]
    }
   ],
   "source": [
    "city=[\"Mumbai\",\"Delhi\",\"Pune\",\"Dubai\",\"Pawai\",\"Chennai\"]\n",
    "for x in city:\n",
    "    ai=x[-2:]\n",
    "    if ai==\"ai\":\n",
    "        print(x,\"This is AI City\")\n",
    "    else:\n",
    "        print(\"This is Not........\",x)"
   ]
  },
  {
   "cell_type": "code",
   "execution_count": 9,
   "metadata": {},
   "outputs": [
    {
     "name": "stdout",
     "output_type": "stream",
     "text": [
      "Length: 6 : Mumbai\n",
      "Not Approved\n",
      "Length: 5 : Delhi\n",
      "Approved\n",
      "Length: 4 : Pune\n",
      "Not Approved\n",
      "Length: 5 : Dubai\n",
      "Approved\n",
      "Length: 5 : Pawai\n",
      "Approved\n",
      "Length: 7 : Chennai\n",
      "Not Approved\n"
     ]
    }
   ],
   "source": [
    "city=[\"Mumbai\",\"Delhi\",\"Pune\",\"Dubai\",\"Pawai\",\"Chennai\"]\n",
    "for x in city:\n",
    "    ab=len(x)\n",
    "    print(\"Length:\",ab,\":\",x)\n",
    "    if ab==5:\n",
    "        print(\"Approved\")\n",
    "    else:\n",
    "        print(\"Not Approved\")\n",
    "        "
   ]
  },
  {
   "cell_type": "code",
   "execution_count": 10,
   "metadata": {},
   "outputs": [],
   "source": [
    "def person():\n",
    "    print(\"MACHINE LEARNING \")"
   ]
  },
  {
   "cell_type": "code",
   "execution_count": 11,
   "metadata": {},
   "outputs": [
    {
     "name": "stdout",
     "output_type": "stream",
     "text": [
      "MACHINE LEARNING \n"
     ]
    }
   ],
   "source": [
    "person()"
   ]
  },
  {
   "cell_type": "code",
   "execution_count": 17,
   "metadata": {},
   "outputs": [],
   "source": [
    "def addition():\n",
    "    for x3 in range(3):\n",
    "        a=int(input(\"Enter the Value: \"))\n",
    "        b=int(input(\"Enter the Value: \"))\n",
    "        print(a+b)\n"
   ]
  },
  {
   "cell_type": "code",
   "execution_count": 18,
   "metadata": {},
   "outputs": [
    {
     "name": "stdout",
     "output_type": "stream",
     "text": [
      "Enter the Value: 66\n",
      "Enter the Value: 55\n",
      "121\n",
      "Enter the Value: 5\n",
      "Enter the Value: 4\n",
      "9\n",
      "Enter the Value: 8\n",
      "Enter the Value: 8\n",
      "16\n",
      "Enter the Value: 99\n",
      "Enter the Value: 99\n",
      "198\n",
      "Enter the Value: 96\n",
      "Enter the Value: 66\n",
      "162\n",
      "Enter the Value: 68\n",
      "Enter the Value: 5\n",
      "73\n"
     ]
    }
   ],
   "source": [
    "for x2 in range(2):\n",
    "    addition()"
   ]
  },
  {
   "cell_type": "code",
   "execution_count": 25,
   "metadata": {},
   "outputs": [],
   "source": [
    "def addition(b,a=20):\n",
    "    for x3 in range(3):\n",
    "        print(a+b)\n"
   ]
  },
  {
   "cell_type": "code",
   "execution_count": 27,
   "metadata": {},
   "outputs": [
    {
     "name": "stdout",
     "output_type": "stream",
     "text": [
      "50\n",
      "50\n",
      "50\n",
      "50\n",
      "50\n",
      "50\n",
      "50\n",
      "50\n",
      "50\n"
     ]
    }
   ],
   "source": [
    "for x4 in range(3):\n",
    "    addition(30)"
   ]
  },
  {
   "cell_type": "code",
   "execution_count": 38,
   "metadata": {},
   "outputs": [
    {
     "name": "stdout",
     "output_type": "stream",
     "text": [
      "Addition :  70\n",
      "I am B1 10\n",
      "10\n"
     ]
    }
   ],
   "source": [
    "def addition(b,a=20):\n",
    "    adds=a+b\n",
    "    print(\"Addition : \",adds)\n",
    "    return a\n",
    "\n",
    "def substraction(c=10):\n",
    "    a1=addition(50)\n",
    "    b1=a1-c\n",
    "    print(\"I am B1\",b1)\n",
    "    return b1\n",
    "\n",
    "def show():\n",
    "    s1=substraction(10)\n",
    "    print(s1)\n",
    "show()"
   ]
  },
  {
   "cell_type": "code",
   "execution_count": 39,
   "metadata": {},
   "outputs": [
    {
     "name": "stdout",
     "output_type": "stream",
     "text": [
      "40\n"
     ]
    }
   ],
   "source": [
    "class school:\n",
    "    def name(self):\n",
    "        self.a=10\n",
    "        self.b=30\n",
    "    def show(self):\n",
    "        ab=self.a+self.b\n",
    "        print(ab)\n",
    "s1=school()\n",
    "s1.name()\n",
    "s1.show()\n",
    "\n",
    "        "
   ]
  },
  {
   "cell_type": "code",
   "execution_count": 40,
   "metadata": {},
   "outputs": [
    {
     "name": "stdout",
     "output_type": "stream",
     "text": [
      "40\n",
      "Data Science\n"
     ]
    }
   ],
   "source": [
    "class school:\n",
    "    def name(self):\n",
    "        self.a=10\n",
    "        self.b=30\n",
    "    def show(self):\n",
    "        ab=self.a+self.b\n",
    "        print(ab)\n",
    "    def studs(self):\n",
    "        print(\"Data Science\")\n",
    "s1=school()\n",
    "s1.name()\n",
    "s1.show()\n",
    "s1.studs()\n",
    "        "
   ]
  },
  {
   "cell_type": "code",
   "execution_count": 41,
   "metadata": {},
   "outputs": [
    {
     "name": "stdout",
     "output_type": "stream",
     "text": [
      "Data Science\n"
     ]
    }
   ],
   "source": [
    "class school:\n",
    "    def name(self):\n",
    "        self.a=10\n",
    "        self.b=30\n",
    "    def show(self):\n",
    "        ab=self.a+self.b\n",
    "        print(ab)\n",
    "    def studs(self):\n",
    "        print(\"Data Science\")\n",
    "s1=school()\n",
    "# s1.name()\n",
    "# s1.show()\n",
    "s1.studs()\n",
    "        "
   ]
  },
  {
   "cell_type": "code",
   "execution_count": 42,
   "metadata": {},
   "outputs": [
    {
     "name": "stdout",
     "output_type": "stream",
     "text": [
      "5\n",
      "Data Science\n",
      "Data Science\n",
      "Data Science\n",
      "Data Science\n",
      "Data Science\n"
     ]
    }
   ],
   "source": [
    "class school:\n",
    "    def name(self):\n",
    "        self.a=2\n",
    "        self.b=3\n",
    "    def show(self):\n",
    "        ab=self.a+self.b\n",
    "        print(ab)\n",
    "        return ab\n",
    "    def studs(self,v1):\n",
    "        for x  in range(v1):\n",
    "            print(\"Data Science\")\n",
    "s1=school()\n",
    "s1.name()\n",
    "t1=s1.show()\n",
    "s1.studs(t1)\n",
    "        "
   ]
  },
  {
   "cell_type": "code",
   "execution_count": 46,
   "metadata": {},
   "outputs": [
    {
     "name": "stdout",
     "output_type": "stream",
     "text": [
      "11\n",
      "Data Science 0\n",
      "Data Science 1\n",
      "Data Science 2\n",
      "Data Science 3\n",
      "Data Science 4\n",
      "Data Science 5\n",
      "Data Science 6\n",
      "Data Science 7\n",
      "Data Science 8\n",
      "Data Science 9\n",
      "Data Science 10\n",
      "Multiple Times Return:  9\n"
     ]
    }
   ],
   "source": [
    "class school:\n",
    "    def name(self):\n",
    "        self.a=2\n",
    "        self.b=9\n",
    "        return self.b\n",
    "    def show(self,p1):\n",
    "        ab=self.a+p1\n",
    "        print(ab)\n",
    "        return ab\n",
    "    def studs(self,v1,s2):\n",
    "        for x  in range(v1):\n",
    "            print(\"Data Science\",x)\n",
    "        print(\"Multiple Times Return: \",s2)\n",
    "s1=school()\n",
    "s2=s1.name()\n",
    "t1=s1.show(s2)\n",
    "s1.studs(t1,s2)\n",
    "        "
   ]
  },
  {
   "cell_type": "code",
   "execution_count": 47,
   "metadata": {},
   "outputs": [
    {
     "name": "stdout",
     "output_type": "stream",
     "text": [
      "Enter the Value A:10\n",
      "Enter the Value B:20\n",
      "30\n",
      "Data Science 0\n",
      "Data Science 1\n",
      "Data Science 2\n",
      "Data Science 3\n",
      "Data Science 4\n",
      "Data Science 5\n",
      "Data Science 6\n",
      "Data Science 7\n",
      "Data Science 8\n",
      "Data Science 9\n",
      "Data Science 10\n",
      "Data Science 11\n",
      "Data Science 12\n",
      "Data Science 13\n",
      "Data Science 14\n",
      "Data Science 15\n",
      "Data Science 16\n",
      "Data Science 17\n",
      "Data Science 18\n",
      "Data Science 19\n",
      "Data Science 20\n",
      "Data Science 21\n",
      "Data Science 22\n",
      "Data Science 23\n",
      "Data Science 24\n",
      "Data Science 25\n",
      "Data Science 26\n",
      "Data Science 27\n",
      "Data Science 28\n",
      "Data Science 29\n",
      "Multiple Times Return:  20\n"
     ]
    }
   ],
   "source": [
    "class school:\n",
    "    def name(self):\n",
    "        self.a=int(input(\"Enter the Value A:\"))\n",
    "        self.b=int(input(\"Enter the Value B:\"))\n",
    "        return self.b\n",
    "    def show(self,p1):\n",
    "        ab=self.a+p1\n",
    "        print(ab)\n",
    "        return ab\n",
    "    def studs(self,v1,s2):\n",
    "        for x  in range(v1):\n",
    "            print(\"Data Science\",x)\n",
    "        print(\"Multiple Times Return: \",s2)\n",
    "s1=school()\n",
    "s2=s1.name()\n",
    "t1=s1.show(s2)\n",
    "s1.studs(t1,s2)\n",
    "        "
   ]
  },
  {
   "cell_type": "code",
   "execution_count": 52,
   "metadata": {},
   "outputs": [
    {
     "name": "stdout",
     "output_type": "stream",
     "text": [
      "Machine Learning ....\n",
      "Enter the Value A:5\n",
      "Enter the Value B:5\n",
      "10\n",
      "Data Science 0\n",
      "Data Science 1\n",
      "Data Science 2\n",
      "Data Science 3\n",
      "Data Science 4\n",
      "Data Science 5\n",
      "Data Science 6\n",
      "Data Science 7\n",
      "Data Science 8\n",
      "Data Science 9\n",
      "Multiple Times Return:  5\n",
      "Machine Learning ....\n"
     ]
    }
   ],
   "source": [
    "class school:\n",
    "    def name(self):\n",
    "        self.a=int(input(\"Enter the Value A:\"))\n",
    "        self.b=int(input(\"Enter the Value B:\"))\n",
    "        return self.b\n",
    "    def show(self,p1):\n",
    "        ab=self.a+p1\n",
    "        print(ab)\n",
    "        return ab\n",
    "    def studs(self,v1,s2):\n",
    "        for x  in range(v1):\n",
    "            print(\"Data Science\",x)\n",
    "        print(\"Multiple Times Return: \",s2)\n",
    "    def mouse(self):\n",
    "        print(\"Machine Learning ....\")\n",
    "\n",
    "s2=school()\n",
    "s2.mouse()\n",
    "s1=school()\n",
    "s2=s1.name()\n",
    "t1=s1.show(s2)\n",
    "s1.studs(t1,s2)\n",
    "s1.mouse()\n",
    "\n",
    "        "
   ]
  },
  {
   "cell_type": "code",
   "execution_count": 53,
   "metadata": {},
   "outputs": [
    {
     "name": "stdout",
     "output_type": "stream",
     "text": [
      "30\n"
     ]
    }
   ],
   "source": [
    "class computer:\n",
    "    def __init__(self):\n",
    "        self.a=10\n",
    "        self.b=20\n",
    "        print(self.a+self.b)\n",
    "c=computer()\n"
   ]
  },
  {
   "cell_type": "code",
   "execution_count": 55,
   "metadata": {},
   "outputs": [
    {
     "name": "stdout",
     "output_type": "stream",
     "text": [
      "30\n",
      "Machine Learning \n"
     ]
    }
   ],
   "source": [
    "class computer:\n",
    "    def __init__(self):\n",
    "        self.a=10\n",
    "        self.b=20\n",
    "        print(self.a+self.b)\n",
    "    def show(self):\n",
    "        print(\"Machine Learning \")\n",
    "c=computer()\n",
    "c.show()"
   ]
  },
  {
   "cell_type": "code",
   "execution_count": 57,
   "metadata": {},
   "outputs": [
    {
     "name": "stdout",
     "output_type": "stream",
     "text": [
      "99\n",
      "1\n",
      "100\n",
      "Machine Learning \n"
     ]
    }
   ],
   "source": [
    "class computer:\n",
    "    def __init__(self,p1,p2):\n",
    "        self.a=c1\n",
    "        self.b=c2\n",
    "        print(self.a+self.b)\n",
    "    def show(self):\n",
    "        print(\"Machine Learning \")\n",
    "c1=int(input())\n",
    "c2=int(input())\n",
    "c=computer(c1,c2)\n",
    "c.show()"
   ]
  },
  {
   "cell_type": "code",
   "execution_count": 2,
   "metadata": {},
   "outputs": [
    {
     "name": "stdout",
     "output_type": "stream",
     "text": [
      "50\n",
      "200\n",
      "Machine Learning \n"
     ]
    }
   ],
   "source": [
    "class computer:\n",
    "    def __init__(self,p1,p2=150):\n",
    "        self.a=c1\n",
    "        self.b=p2\n",
    "        print(self.a+self.b)\n",
    "    def show(self):\n",
    "        print(\"Machine Learning \")\n",
    "c1=int(input())\n",
    "\n",
    "c=computer(c1)\n",
    "c.show()"
   ]
  },
  {
   "cell_type": "code",
   "execution_count": 3,
   "metadata": {},
   "outputs": [
    {
     "name": "stdout",
     "output_type": "stream",
     "text": [
      "30\n",
      "Machine Learning \n",
      "Enterr the Marks: 50\n",
      "Enterr the Marks: 75\n",
      "Enterr the Marks: 25\n",
      "Enterr the Marks: 50\n",
      "200\n"
     ]
    }
   ],
   "source": [
    "class computer:\n",
    "    def __init__(self):\n",
    "        self.a=10\n",
    "        self.b=20\n",
    "        print(self.a+self.b)\n",
    "    def show(self):\n",
    "        print(\"Machine Learning \")\n",
    "    \n",
    "    def student(self):\n",
    "        ab=[]\n",
    "        for x in range(4):\n",
    "            m=int(input(\"Enterr the Marks: \"))\n",
    "            ab.append(m)\n",
    "        sums=sum(ab)\n",
    "        print(sums)\n",
    "    \n",
    "        \n",
    "c=computer()\n",
    "c.show()\n",
    "c.student()"
   ]
  },
  {
   "cell_type": "code",
   "execution_count": 5,
   "metadata": {},
   "outputs": [
    {
     "name": "stdout",
     "output_type": "stream",
     "text": [
      "30\n",
      "Machine Learning \n",
      "Enterr the Marks: 50\n",
      "Enterr the Marks: 52\n",
      "Enterr the Marks: 54\n",
      "Enterr the Marks: 56\n",
      "212\n",
      "My Marks:  50\n",
      "My Marks:  52\n",
      "My Marks:  54\n",
      "My Marks:  56\n"
     ]
    }
   ],
   "source": [
    "class computer:\n",
    "    def __init__(self):\n",
    "        self.a=10\n",
    "        self.b=20\n",
    "        print(self.a+self.b)\n",
    "    def show(self):\n",
    "        print(\"Machine Learning\")\n",
    "    \n",
    "    def student(self):\n",
    "        ab=[]\n",
    "        for x in range(4):\n",
    "            m=int(input(\"Enterr the Marks: \"))\n",
    "            ab.append(m)\n",
    "        sums=sum(ab)\n",
    "        print(sums)\n",
    "        return ab\n",
    "    def shows(self,ab):\n",
    "        for x1 in ab:\n",
    "            print(\"My Marks: \",x1)\n",
    "    \n",
    "        \n",
    "c=computer()\n",
    "c.show()\n",
    "ab=c.student()\n",
    "c.shows(ab)"
   ]
  },
  {
   "cell_type": "code",
   "execution_count": null,
   "metadata": {},
   "outputs": [],
   "source": []
  }
 ],
 "metadata": {
  "kernelspec": {
   "display_name": "Python 3",
   "language": "python",
   "name": "python3"
  },
  "language_info": {
   "codemirror_mode": {
    "name": "ipython",
    "version": 3
   },
   "file_extension": ".py",
   "mimetype": "text/x-python",
   "name": "python",
   "nbconvert_exporter": "python",
   "pygments_lexer": "ipython3",
   "version": "3.7.4"
  }
 },
 "nbformat": 4,
 "nbformat_minor": 2
}
